{
 "cells": [
  {
   "cell_type": "code",
   "execution_count": null,
   "metadata": {
    "deletable": false,
    "editable": false
   },
   "outputs": [],
   "source": [
    "# Initialize Otter\n",
    "import otter\n",
    "grader = otter.Notebook(\"tutorial1_1.ipynb\")"
   ]
  },
  {
   "cell_type": "markdown",
   "metadata": {},
   "source": [
    "# Tutorial 01: Python Primer\n",
    "\n",
    "Welcome to Tutorial 1!  In this tutorial, we will cover bash and python basics and make sure you are set up with the course Slack and Gradescope\n",
    "\n",
    "**READING:** Portions of [*Downey, A.B. 2015. Think Python: How to Think Like a Computer Scientist*](https://greenteapress.com/wp/think-python-2e/) will be helpful for completing this assignment if you are new to python. The book is freely available online. Each section of the assignment will link to the relevant parts of the book.\n",
    "\n",
    "First, set up the tests and imports by running the cell below."
   ]
  },
  {
   "cell_type": "code",
   "execution_count": 3,
   "metadata": {},
   "outputs": [],
   "source": [
    "# Run this cell, but please don't change it.\n",
    "\n",
    "# These lines load the tests.\n",
    "import otter\n",
    "grader = otter.Notebook()"
   ]
  },
  {
   "cell_type": "markdown",
   "metadata": {},
   "source": [
    "## Outline\n"
   ]
  },
  {
   "cell_type": "markdown",
   "metadata": {},
   "source": [
    "## 1. Expressions, Calculations, and Error\n",
    "Reading: \n",
    "  - [Chapter 1: The way of the program](https://greenteapress.com/thinkpython2/html/thinkpython2002.html)\n",
    "  - [Chapter 2: Variables, expressions and statements](https://greenteapress.com/thinkpython2/html/thinkpython2003.html)"
   ]
  },
  {
   "cell_type": "markdown",
   "metadata": {
    "deletable": false,
    "editable": false
   },
   "source": [
    "**Question 1.1.** How many seconds are there in 2 hours 30 minutes and 42 seconds? \n",
    "Write an expression to compute this value and assign the result of the expression to the name `time_in_seconds`.\n",
    "\n",
    "<!--\n",
    "BEGIN QUESTION\n",
    "name: q1_1\n",
    "points: 1\n",
    "-->"
   ]
  },
  {
   "cell_type": "code",
   "execution_count": 5,
   "metadata": {},
   "outputs": [
    {
     "data": {
      "text/plain": [
       "9042"
      ]
     },
     "execution_count": 5,
     "metadata": {},
     "output_type": "execute_result"
    }
   ],
   "source": [
    "time_in_seconds = (2*60*60) + 60*30 + 42\n",
    "time_in_seconds"
   ]
  },
  {
   "cell_type": "code",
   "execution_count": 6,
   "metadata": {
    "deletable": false,
    "editable": false
   },
   "outputs": [
    {
     "data": {
      "text/html": [
       "\n",
       "    <p><strong>q1_1</strong> passed!</p>\n",
       "    "
      ],
      "text/plain": [
       "q1_1 passed!"
      ]
     },
     "execution_count": 6,
     "metadata": {},
     "output_type": "execute_result"
    }
   ],
   "source": [
    "grader.check(\"q1_1\")"
   ]
  },
  {
   "cell_type": "markdown",
   "metadata": {},
   "source": [
    "### Understanding Errors\n",
    "Run the following lines of code. Below, in at most one sentence, explain the error message that you see when running the code and how would you fix the code."
   ]
  },
  {
   "cell_type": "markdown",
   "metadata": {
    "deletable": false,
    "editable": false
   },
   "source": [
    "<!-- BEGIN QUESTION -->\n",
    "\n",
    "**Question 1.2** \n",
    "<!--\n",
    "BEGIN QUESTION\n",
    "name: q1_2\n",
    "points: 1\n",
    "manual: true\n",
    "-->"
   ]
  },
  {
   "cell_type": "code",
   "execution_count": 8,
   "metadata": {},
   "outputs": [],
   "source": [
    "n = 42"
   ]
  },
  {
   "cell_type": "markdown",
   "metadata": {},
   "source": [
    "_Type your answer here, replacing this text._"
   ]
  },
  {
   "cell_type": "markdown",
   "metadata": {
    "deletable": false,
    "editable": false
   },
   "source": [
    "<!-- END QUESTION -->\n",
    "\n",
    "<!-- BEGIN QUESTION -->\n",
    "\n",
    "**Question 1.3** \n",
    "<!--\n",
    "BEGIN QUESTION\n",
    "name: q1_3\n",
    "points: 1\n",
    "manual: true\n",
    "-->"
   ]
  },
  {
   "cell_type": "code",
   "execution_count": 9,
   "metadata": {},
   "outputs": [
    {
     "name": "stdout",
     "output_type": "stream",
     "text": [
      "Hello World\n"
     ]
    }
   ],
   "source": [
    "print(\"Hello World\")"
   ]
  },
  {
   "cell_type": "markdown",
   "metadata": {},
   "source": [
    "_Type your answer here, replacing this text._"
   ]
  },
  {
   "cell_type": "markdown",
   "metadata": {
    "deletable": false,
    "editable": false
   },
   "source": [
    "<!-- END QUESTION -->\n",
    "\n",
    "<!-- BEGIN QUESTION -->\n",
    "\n",
    "**Question 1.4** \n",
    "<!--\n",
    "BEGIN QUESTION\n",
    "name: q1_4\n",
    "points: 1\n",
    "manual: true\n",
    "-->"
   ]
  },
  {
   "cell_type": "code",
   "execution_count": 10,
   "metadata": {},
   "outputs": [
    {
     "name": "stdout",
     "output_type": "stream",
     "text": [
      "Hello World\n"
     ]
    }
   ],
   "source": [
    "print(\"Hello World\")"
   ]
  },
  {
   "cell_type": "markdown",
   "metadata": {},
   "source": [
    "_Type your answer here, replacing this text._"
   ]
  },
  {
   "cell_type": "markdown",
   "metadata": {},
   "source": [
    "<!-- END QUESTION -->\n",
    "\n",
    "\n",
    "\n",
    "## 2. Functions\n",
    "\n",
    "Reading: \n",
    "  - [Chapter 3: Functions](https://greenteapress.com/thinkpython2/html/thinkpython2004.html)\n",
    "  - [Chapter 4  Case study: interface design](https://greenteapress.com/thinkpython2/html/thinkpython2005.html)"
   ]
  },
  {
   "cell_type": "markdown",
   "metadata": {
    "deletable": false,
    "editable": false
   },
   "source": [
    "**Question 2.1** Complete the missing code in the function `add_two_numbers` so that it returns the the sum of `x` and `y`.\n",
    "\n",
    "*Don't remove the quotation marks, we will need them for the next question.*\n",
    "\n",
    "<!--\n",
    "BEGIN QUESTION\n",
    "name: q2_1\n",
    "points: 1\n",
    "manual: false\n",
    "-->"
   ]
  },
  {
   "cell_type": "code",
   "execution_count": 11,
   "metadata": {},
   "outputs": [
    {
     "data": {
      "text/plain": [
       "60"
      ]
     },
     "execution_count": 11,
     "metadata": {},
     "output_type": "execute_result"
    }
   ],
   "source": [
    "def add_two_numbers(x, y):\n",
    "    \"\"\"\n",
    "    \"\"\"\n",
    "    return x+y\n",
    "\n",
    "add_two_numbers(10, 50)"
   ]
  },
  {
   "cell_type": "code",
   "execution_count": 12,
   "metadata": {
    "deletable": false,
    "editable": false
   },
   "outputs": [
    {
     "data": {
      "text/html": [
       "\n",
       "    <p><strong>q2_1</strong> passed!</p>\n",
       "    "
      ],
      "text/plain": [
       "q2_1 passed!"
      ]
     },
     "execution_count": 12,
     "metadata": {},
     "output_type": "execute_result"
    }
   ],
   "source": [
    "grader.check(\"q2_1\")"
   ]
  },
  {
   "cell_type": "markdown",
   "metadata": {},
   "source": [
    "If you run the next python cell, you will notice that it prints out just a newline character (that's the `\\n`)."
   ]
  },
  {
   "cell_type": "code",
   "execution_count": 13,
   "metadata": {},
   "outputs": [
    {
     "data": {
      "text/plain": [
       "'\\n    '"
      ]
     },
     "execution_count": 13,
     "metadata": {},
     "output_type": "execute_result"
    }
   ],
   "source": [
    "add_two_numbers.__doc__"
   ]
  },
  {
   "cell_type": "markdown",
   "metadata": {
    "deletable": false,
    "editable": false
   },
   "source": [
    "<!-- BEGIN QUESTION -->\n",
    "\n",
    "<!--\n",
    "BEGIN QUESTION\n",
    "name: q2_2\n",
    "points: 1\n",
    "manual: True\n",
    "-->\n",
    "\n",
    "**Question 2.2** Modify the doc string ([Textbook paragraph](https://greenteapress.com/thinkpython2/html/thinkpython2005.html#sec50)) in the `add_two_numbers` functions to provide a description of the function's interface. Make sure to re-run the python cell after you added a docstring to the function.\n",
    "\n",
    "*Hint:* If you still see an empty string in the cell below, make sure to re-run the python cell where you implemented the function"
   ]
  },
  {
   "cell_type": "code",
   "execution_count": null,
   "metadata": {},
   "outputs": [],
   "source": [
    "add_two_numbers.__doc__"
   ]
  },
  {
   "cell_type": "markdown",
   "metadata": {},
   "source": [
    "<!-- END QUESTION -->\n",
    "\n",
    "\n",
    "\n",
    "#### Returning multiple values\n",
    "\n",
    "\n",
    "The `add_two_numbers` function returned a single value, the sum of the two inputted numbers. However, \n",
    "we can use functions to return an abritrary number of values. Run the next python-cell which defines a function called `difference_and_sum`. The function takes in two values as input and returns difference and sum of the values."
   ]
  },
  {
   "cell_type": "code",
   "execution_count": 14,
   "metadata": {},
   "outputs": [
    {
     "data": {
      "text/plain": [
       "(11, 33)"
      ]
     },
     "execution_count": 14,
     "metadata": {},
     "output_type": "execute_result"
    }
   ],
   "source": [
    "def difference_and_sum(x, y):\n",
    "    \"\"\"\n",
    "    Returns the difference and sum of two values that are passed in as arguments\n",
    "    \"\"\"\n",
    "    return x - y, x + y\n",
    "\n",
    "difference_and_sum(22,11)"
   ]
  },
  {
   "cell_type": "markdown",
   "metadata": {},
   "source": [
    "As you can see when running the next cell, `add_two_numbers` returns a `int`."
   ]
  },
  {
   "cell_type": "code",
   "execution_count": 15,
   "metadata": {},
   "outputs": [
    {
     "data": {
      "text/plain": [
       "int"
      ]
     },
     "execution_count": 15,
     "metadata": {},
     "output_type": "execute_result"
    }
   ],
   "source": [
    "type(add_two_numbers(22, 11))"
   ]
  },
  {
   "cell_type": "markdown",
   "metadata": {},
   "source": [
    "What `type` do you think `difference_and_sum` returns? Will it return two `int`'s or something else?. Run the next cell to see"
   ]
  },
  {
   "cell_type": "code",
   "execution_count": 16,
   "metadata": {},
   "outputs": [
    {
     "data": {
      "text/plain": [
       "tuple"
      ]
     },
     "execution_count": 16,
     "metadata": {},
     "output_type": "execute_result"
    }
   ],
   "source": [
    "type(difference_and_sum(22,11))"
   ]
  },
  {
   "cell_type": "markdown",
   "metadata": {},
   "source": [
    "When we return multiple values in a function, we return a `tuple`. Tomorrow's in-class demo will cover `tuple`s and other datatypes but if you are curious about what a tuple is in the meanwhile, free free to read [Chapter 11](https://greenteapress.com/thinkpython2/html/thinkpython2013.html) of the python textbook.\n",
    "\n",
    "The point of this specific exercise if for you to get comfortable with the flexibility of functions. In this course we will common use functions that return multiple values."
   ]
  },
  {
   "cell_type": "markdown",
   "metadata": {
    "deletable": false,
    "editable": false
   },
   "source": [
    "<!--\n",
    "BEGIN QUESTION\n",
    "name: q2_3\n",
    "points: 1\n",
    "manual: False\n",
    "-->\n",
    "    \n",
    "**Question 2.3** Add the missing lines to this function that determines the smallest and largest numbers amongst four numbers. \n",
    "\n",
    "*Hint 1:* Python has some built in functions that will be useful here. This [table](https://docs.python.org/3/library/functions.html#built-in-functions) lists some built in functions.\n",
    "\n",
    "*Hint 2:* Make sure that the first returned number is the maximum and the second is the minimum.\n"
   ]
  },
  {
   "cell_type": "code",
   "execution_count": 18,
   "metadata": {},
   "outputs": [
    {
     "data": {
      "text/plain": [
       "(22, -9)"
      ]
     },
     "execution_count": 18,
     "metadata": {},
     "output_type": "execute_result"
    }
   ],
   "source": [
    "def max_and_min(a, b, c, d):\n",
    "    \"\"\"\n",
    "    Given four numbers (a, - d), return the maximum and minimum\n",
    "    \"\"\"\n",
    "    max_number = max(a,b,c,d)\n",
    "    min_number = min(a,b,c,d)\n",
    "    return max_number, min_number\n",
    "\n",
    "max_and_min(-9, 22, 3, 6)"
   ]
  },
  {
   "cell_type": "code",
   "execution_count": 19,
   "metadata": {
    "deletable": false,
    "editable": false
   },
   "outputs": [
    {
     "data": {
      "text/html": [
       "\n",
       "    <p><strong>q2_3</strong> passed!</p>\n",
       "    "
      ],
      "text/plain": [
       "q2_3 passed!"
      ]
     },
     "execution_count": 19,
     "metadata": {},
     "output_type": "execute_result"
    }
   ],
   "source": [
    "grader.check(\"q2_3\")"
   ]
  },
  {
   "cell_type": "markdown",
   "metadata": {},
   "source": [
    "## 3. Conditionals\n",
    "\n",
    "Reading:\n",
    "  - [Chapter 5: Conditionals and recursion](https://greenteapress.com/thinkpython2/html/thinkpython2006.html)\n",
    "  - [Chapter 6:  Fruitful functions](https://greenteapress.com/thinkpython2/html/thinkpython2007.html)\n",
    "  - [Chapter 7:  Iteration](https://greenteapress.com/thinkpython2/html/thinkpython2008.html)\n",
    "  - [Chapter 8: Strings](https://greenteapress.com/thinkpython2/html/thinkpython2009.html)\n",
    "  \n",
    "\n",
    "`Strings` are a common data type in python used to store a sequence of characters. Since this course focuses on analyzing texts, we will be regularly working with strings."
   ]
  },
  {
   "cell_type": "markdown",
   "metadata": {},
   "source": [
    "We assign strings to variables using `=`, just like how we assign numbers or expressions to variables. In the next python cell we assigned the last sentence from the previous markdown cell to the name `example_string`. \n",
    "\n",
    "If you look closely you'll notice that the string is actually the lowercased version of the last sentence, but that detail isn't important for now."
   ]
  },
  {
   "cell_type": "code",
   "execution_count": 20,
   "metadata": {},
   "outputs": [
    {
     "name": "stdout",
     "output_type": "stream",
     "text": [
      "tomorrow's in class demo will cover strings in more details but the next few questions will involve strings\n"
     ]
    }
   ],
   "source": [
    "example_string = \"tomorrow's in class demo will cover strings in more details but the next few questions will involve strings\"\n",
    "print(example_string)"
   ]
  },
  {
   "cell_type": "markdown",
   "metadata": {
    "deletable": false,
    "editable": false
   },
   "source": [
    "<!--\n",
    "BEGIN QUESTION\n",
    "name: q3_1\n",
    "points: 1\n",
    "manual: False\n",
    "-->\n",
    "\n",
    "**Question 3.1:** Fill in the function `number_of_vowels` so that it returns the number of `a`'s', `e`'s, `i`'s, `o`'s, and `u`'s in a given string.\n",
    "\n",
    "*Hint:* For this question, we only care about lower cased values."
   ]
  },
  {
   "cell_type": "code",
   "execution_count": 22,
   "metadata": {},
   "outputs": [
    {
     "data": {
      "text/plain": [
       "(2, 9, 9, 8, 2)"
      ]
     },
     "execution_count": 22,
     "metadata": {},
     "output_type": "execute_result"
    }
   ],
   "source": [
    "def number_of_vowels(string):\n",
    "    num_a, num_e, num_i, num_o, num_u = 0, 0, 0, 0, 0\n",
    "    for char in string:\n",
    "        if char == 'a':\n",
    "            num_a = num_a + 1\n",
    "        if char == 'e':\n",
    "            num_e = num_e + 1\n",
    "        if char == 'i':\n",
    "            num_i = num_i + 1\n",
    "        if char == 'o':\n",
    "            num_o = num_o + 1\n",
    "        if char == 'u':\n",
    "            num_u = num_u + 1\n",
    "    return num_a, num_e, num_i, num_o, num_u \n",
    "            \n",
    "number_of_vowels(example_string)   "
   ]
  },
  {
   "cell_type": "code",
   "execution_count": 23,
   "metadata": {
    "deletable": false,
    "editable": false
   },
   "outputs": [
    {
     "data": {
      "text/html": [
       "\n",
       "    <p><strong>q3_1</strong> passed!</p>\n",
       "    "
      ],
      "text/plain": [
       "q3_1 passed!"
      ]
     },
     "execution_count": 23,
     "metadata": {},
     "output_type": "execute_result"
    }
   ],
   "source": [
    "grader.check(\"q3_1\")"
   ]
  },
  {
   "cell_type": "markdown",
   "metadata": {
    "deletable": false,
    "editable": false
   },
   "source": [
    "---\n",
    "\n",
    "To double-check your work, the cell below will rerun all of the autograder tests."
   ]
  },
  {
   "cell_type": "code",
   "execution_count": 24,
   "metadata": {
    "deletable": false,
    "editable": false
   },
   "outputs": [
    {
     "data": {
      "text/html": [
       "\n",
       "    <p><strong>q1_1</strong> passed!</p>\n",
       "    \n",
       "\n",
       "\n",
       "    <p><strong>q2_1</strong> passed!</p>\n",
       "    \n",
       "\n",
       "\n",
       "    <p><strong>q2_3</strong> passed!</p>\n",
       "    \n",
       "\n",
       "\n",
       "    <p><strong>q3_1</strong> passed!</p>\n",
       "    \n",
       "\n"
      ],
      "text/plain": [
       "q1_1 passed!\n",
       "\n",
       "q2_1 passed!\n",
       "\n",
       "q2_3 passed!\n",
       "\n",
       "q3_1 passed!\n"
      ]
     },
     "execution_count": 24,
     "metadata": {},
     "output_type": "execute_result"
    }
   ],
   "source": [
    "grader.check_all()"
   ]
  },
  {
   "cell_type": "markdown",
   "metadata": {
    "deletable": false,
    "editable": false
   },
   "source": [
    "## Submission\n",
    "\n",
    "Make sure you have run all cells in your notebook in order before running the cell below, so that all images/graphs appear in the output. The cell below will generate a zip file for you to submit. **Please save before exporting!**"
   ]
  },
  {
   "cell_type": "code",
   "execution_count": null,
   "metadata": {
    "deletable": false,
    "editable": false
   },
   "outputs": [],
   "source": [
    "# Save your notebook first, then run this cell to export your submission.\n",
    "grader.export()"
   ]
  },
  {
   "cell_type": "markdown",
   "metadata": {},
   "source": [
    " "
   ]
  }
 ],
 "metadata": {
  "kernelspec": {
   "display_name": "Python 3",
   "language": "python",
   "name": "python3"
  },
  "language_info": {
   "codemirror_mode": {
    "name": "ipython",
    "version": 3
   },
   "file_extension": ".py",
   "mimetype": "text/x-python",
   "name": "python",
   "nbconvert_exporter": "python",
   "pygments_lexer": "ipython3",
   "version": "3.8.8"
  }
 },
 "nbformat": 4,
 "nbformat_minor": 4
}
